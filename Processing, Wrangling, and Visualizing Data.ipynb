{
  "nbformat": 4,
  "nbformat_minor": 0,
  "metadata": {
    "colab": {
      "provenance": [],
      "mount_file_id": "1__EeCUGgPR0_bHAYn_6mleJc4ijroia9",
      "authorship_tag": "ABX9TyNcbWi0ALqykks4fjjYLupo",
      "include_colab_link": true
    },
    "kernelspec": {
      "name": "python3",
      "display_name": "Python 3"
    },
    "language_info": {
      "name": "python"
    }
  },
  "cells": [
    {
      "cell_type": "markdown",
      "metadata": {
        "id": "view-in-github",
        "colab_type": "text"
      },
      "source": [
        "<a href=\"https://colab.research.google.com/github/Amaliaaap/Machine-Learning/blob/main/Processing%2C%20Wrangling%2C%20and%20Visualizing%20Data.ipynb\" target=\"_parent\"><img src=\"https://colab.research.google.com/assets/colab-badge.svg\" alt=\"Open In Colab\"/></a>"
      ]
    },
    {
      "cell_type": "markdown",
      "source": [
        "**PROCESSING, WRAGLING, AND VISUALIZING DATA**"
      ],
      "metadata": {
        "id": "nj0DjtsdEJ_Z"
      }
    },
    {
      "cell_type": "markdown",
      "source": [
        "Bab ini berfokus pada pengambilan, pemrosesan, pengolahan, dan visualisasi data. Contoh praktis dengan berbagai format data telah digambarkan beserta cara memanfaatkan berbagai kerangka kerja untuk menangani data & peringkasan. Bab ini juga membahas aspek-aspek yang terkait dengan Visualisasi data untuk mendapatkan wawasan."
      ],
      "metadata": {
        "id": "RWtWSUMuEQGX"
      }
    },
    {
      "cell_type": "markdown",
      "source": [
        "# 3.1 Data Collection"
      ],
      "metadata": {
        "id": "V4fDLnguFbxB"
      }
    },
    {
      "cell_type": "markdown",
      "source": [
        "# 3.1.1 CSV"
      ],
      "metadata": {
        "id": "Gwl88PeoFlNh"
      }
    },
    {
      "cell_type": "markdown",
      "source": [
        "File CSV (Comma Separated Values) adalah format data yang banyak digunakan dan masih populer di berbagai sistem serta domain. CSV berisi data yang dipisahkan oleh tanda koma (\",\") untuk memisahkan setiap atributnya. Format ini termasuk salah satu yang tertua namun tetap disukai karena kesederhanaannya dan kompatibilitasnya dengan berbagai aplikasi."
      ],
      "metadata": {
        "id": "ltzcUud6Fj0X"
      }
    },
    {
      "cell_type": "code",
      "execution_count": null,
      "metadata": {
        "id": "XBW-TvkODQa5"
      },
      "outputs": [],
      "source": [
        "# import required libraries\n",
        "import csv\n",
        "import pandas as pd\n",
        "from pprint import pprint"
      ]
    },
    {
      "cell_type": "code",
      "source": [
        "def print_basic_csv(file_name, delimiter=','):\n",
        "    \"\"\"This function extracts and prints csv content from given filename\n",
        "       Details: https://docs.python.org/2/library/csv.html\n",
        "    Args:\n",
        "        file_name (str): file path to be read\n",
        "        delimiter (str): delimiter used in csv. Default is comma (',')\n",
        "\n",
        "    Returns:\n",
        "        None\n",
        "\n",
        "    \"\"\"\n",
        "    csv_rows = list()\n",
        "    csv_attr_dict = dict()\n",
        "    csv_reader = None\n",
        "\n",
        "    # read csv\n",
        "    csv_reader = csv.reader(open(file_name, 'r'), delimiter=delimiter)\n",
        "\n",
        "    # iterate and extract data\n",
        "    for row in csv_reader:\n",
        "        print(row)\n",
        "        csv_rows.append(row)\n",
        "\n",
        "    # prepare attribute lists\n",
        "    for col in csv_rows[0]:\n",
        "        csv_attr_dict[col]=list()\n",
        "\n",
        "    # iterate and add data to attribute lists\n",
        "    for row in csv_rows[1:]:\n",
        "        csv_attr_dict['sno'].append(row[0])\n",
        "        csv_attr_dict['fruit'].append(row[1])\n",
        "        csv_attr_dict['color'].append(row[2])\n",
        "        csv_attr_dict['price'].append(row[3])\n",
        "\n",
        "     # print the result\n",
        "    print(\"\\n\\n\")\n",
        "    print(\"CSV Attributes::\")\n",
        "    pprint(csv_attr_dict)\n",
        "\n",
        "\n",
        "\n",
        "def print_tabular_data(file_name,delimiter=\",\"):\n",
        "    \"\"\"This function extracts and prints tabular csv content from given filename\n",
        "       Details: http://pandas.pydata.org/pandas-docs/stable/generated/pandas.read_csv.html\n",
        "    Args:\n",
        "        file_name (str): file path to be read\n",
        "        delimiter (str): delimiter used in csv. Default is comma ('\\t')\n",
        "\n",
        "    Returns:\n",
        "        None\n",
        "\n",
        "    \"\"\"\n",
        "    df = pd.read_csv(file_name,sep=delimiter)\n",
        "    print(df)"
      ],
      "metadata": {
        "id": "RrBBA__MHRZl"
      },
      "execution_count": null,
      "outputs": []
    },
    {
      "cell_type": "markdown",
      "source": [
        "**Parse menggunakan modul CSV**\n",
        "\n",
        "Fungsi print_basic_csv() mengambil nama file input beserta pembatasnya sebagai parameter input."
      ],
      "metadata": {
        "id": "MT-zWT6LIoPR"
      }
    },
    {
      "cell_type": "code",
      "source": [
        "print_basic_csv(r'/content/tabular_csv.csv')"
      ],
      "metadata": {
        "colab": {
          "base_uri": "https://localhost:8080/"
        },
        "id": "EXomoVzgIULo",
        "outputId": "b1e3c1b1-6c7b-45ee-ec31-6aaa40d62bbf"
      },
      "execution_count": null,
      "outputs": [
        {
          "output_type": "stream",
          "name": "stdout",
          "text": [
            "['sno', 'fruit', 'color', 'price']\n",
            "['1', 'apple', 'red', '110.85']\n",
            "['2', 'banana', 'yellow', '50.12']\n",
            "['3', 'mango', 'yellow', '70.29']\n",
            "['4', 'orange', 'orange', '80.00']\n",
            "['5', 'kiwi', 'green', '150.00']\n",
            "['6', 'pineapple', 'yellow', '90.00']\n",
            "['7', 'guava', 'green', '20.00']\n",
            "\n",
            "\n",
            "\n",
            "CSV Attributes::\n",
            "{'color': ['red', 'yellow', 'yellow', 'orange', 'green', 'yellow', 'green'],\n",
            " 'fruit': ['apple', 'banana', 'mango', 'orange', 'kiwi', 'pineapple', 'guava'],\n",
            " 'price': ['110.85', '50.12', '70.29', '80.00', '150.00', '90.00', '20.00'],\n",
            " 'sno': ['1', '2', '3', '4', '5', '6', '7']}\n"
          ]
        }
      ]
    },
    {
      "cell_type": "markdown",
      "source": [
        "Output pertama pada sel di atas menunjukkan data dalam csv apa adanya. Output kedua adalah output yang diurai yang menampilkan konten csv sebagai pasangan kunci-nilai."
      ],
      "metadata": {
        "id": "WX_UD2miJC6B"
      }
    },
    {
      "cell_type": "markdown",
      "source": [
        "**Parse menggunakan pandas**\n",
        "\n",
        "Fungsi print_tabular_data() mengambil nama file input beserta pembatas sebagai parameter input. Fungsi ini menggunakan pandas untuk melakukan pekerjaan berat"
      ],
      "metadata": {
        "id": "JlPqpi4ZI0Gl"
      }
    },
    {
      "cell_type": "code",
      "source": [
        "print_tabular_data(r'/content/tabular_csv.csv')"
      ],
      "metadata": {
        "colab": {
          "base_uri": "https://localhost:8080/"
        },
        "id": "K3AEACegIemj",
        "outputId": "26d72a36-2df2-40f1-cc0b-2cd0edea0cae"
      },
      "execution_count": null,
      "outputs": [
        {
          "output_type": "stream",
          "name": "stdout",
          "text": [
            "   sno      fruit   color   price\n",
            "0    1      apple     red  110.85\n",
            "1    2     banana  yellow   50.12\n",
            "2    3      mango  yellow   70.29\n",
            "3    4     orange  orange   80.00\n",
            "4    5       kiwi   green  150.00\n",
            "5    6  pineapple  yellow   90.00\n",
            "6    7      guava   green   20.00\n"
          ]
        }
      ]
    },
    {
      "cell_type": "markdown",
      "source": [
        "Output pada sel di atas menunjukkan bagaimana pandas membaca csv dan menyiapkan kerangka data tabular"
      ],
      "metadata": {
        "id": "3d24bEQCJAN_"
      }
    },
    {
      "cell_type": "code",
      "source": [
        "bentuk lain dari pandas ketika menunjukkan kerangka"
      ],
      "metadata": {
        "id": "igU5PNL5RwLb"
      },
      "execution_count": null,
      "outputs": []
    },
    {
      "cell_type": "code",
      "source": [
        "df = pd.read_csv('/content/tabular_csv.csv')\n",
        "df"
      ],
      "metadata": {
        "colab": {
          "base_uri": "https://localhost:8080/",
          "height": 269
        },
        "id": "GhU9vz7fRdq2",
        "outputId": "82b5469a-cdff-47f7-c2c9-7ee04bc75a53"
      },
      "execution_count": null,
      "outputs": [
        {
          "output_type": "execute_result",
          "data": {
            "text/plain": [
              "   sno      fruit   color   price\n",
              "0    1      apple     red  110.85\n",
              "1    2     banana  yellow   50.12\n",
              "2    3      mango  yellow   70.29\n",
              "3    4     orange  orange   80.00\n",
              "4    5       kiwi   green  150.00\n",
              "5    6  pineapple  yellow   90.00\n",
              "6    7      guava   green   20.00"
            ],
            "text/html": [
              "\n",
              "  <div id=\"df-30ac99e1-9f9b-45fb-b479-ef620e3d5e9d\" class=\"colab-df-container\">\n",
              "    <div>\n",
              "<style scoped>\n",
              "    .dataframe tbody tr th:only-of-type {\n",
              "        vertical-align: middle;\n",
              "    }\n",
              "\n",
              "    .dataframe tbody tr th {\n",
              "        vertical-align: top;\n",
              "    }\n",
              "\n",
              "    .dataframe thead th {\n",
              "        text-align: right;\n",
              "    }\n",
              "</style>\n",
              "<table border=\"1\" class=\"dataframe\">\n",
              "  <thead>\n",
              "    <tr style=\"text-align: right;\">\n",
              "      <th></th>\n",
              "      <th>sno</th>\n",
              "      <th>fruit</th>\n",
              "      <th>color</th>\n",
              "      <th>price</th>\n",
              "    </tr>\n",
              "  </thead>\n",
              "  <tbody>\n",
              "    <tr>\n",
              "      <th>0</th>\n",
              "      <td>1</td>\n",
              "      <td>apple</td>\n",
              "      <td>red</td>\n",
              "      <td>110.85</td>\n",
              "    </tr>\n",
              "    <tr>\n",
              "      <th>1</th>\n",
              "      <td>2</td>\n",
              "      <td>banana</td>\n",
              "      <td>yellow</td>\n",
              "      <td>50.12</td>\n",
              "    </tr>\n",
              "    <tr>\n",
              "      <th>2</th>\n",
              "      <td>3</td>\n",
              "      <td>mango</td>\n",
              "      <td>yellow</td>\n",
              "      <td>70.29</td>\n",
              "    </tr>\n",
              "    <tr>\n",
              "      <th>3</th>\n",
              "      <td>4</td>\n",
              "      <td>orange</td>\n",
              "      <td>orange</td>\n",
              "      <td>80.00</td>\n",
              "    </tr>\n",
              "    <tr>\n",
              "      <th>4</th>\n",
              "      <td>5</td>\n",
              "      <td>kiwi</td>\n",
              "      <td>green</td>\n",
              "      <td>150.00</td>\n",
              "    </tr>\n",
              "    <tr>\n",
              "      <th>5</th>\n",
              "      <td>6</td>\n",
              "      <td>pineapple</td>\n",
              "      <td>yellow</td>\n",
              "      <td>90.00</td>\n",
              "    </tr>\n",
              "    <tr>\n",
              "      <th>6</th>\n",
              "      <td>7</td>\n",
              "      <td>guava</td>\n",
              "      <td>green</td>\n",
              "      <td>20.00</td>\n",
              "    </tr>\n",
              "  </tbody>\n",
              "</table>\n",
              "</div>\n",
              "    <div class=\"colab-df-buttons\">\n",
              "\n",
              "  <div class=\"colab-df-container\">\n",
              "    <button class=\"colab-df-convert\" onclick=\"convertToInteractive('df-30ac99e1-9f9b-45fb-b479-ef620e3d5e9d')\"\n",
              "            title=\"Convert this dataframe to an interactive table.\"\n",
              "            style=\"display:none;\">\n",
              "\n",
              "  <svg xmlns=\"http://www.w3.org/2000/svg\" height=\"24px\" viewBox=\"0 -960 960 960\">\n",
              "    <path d=\"M120-120v-720h720v720H120Zm60-500h600v-160H180v160Zm220 220h160v-160H400v160Zm0 220h160v-160H400v160ZM180-400h160v-160H180v160Zm440 0h160v-160H620v160ZM180-180h160v-160H180v160Zm440 0h160v-160H620v160Z\"/>\n",
              "  </svg>\n",
              "    </button>\n",
              "\n",
              "  <style>\n",
              "    .colab-df-container {\n",
              "      display:flex;\n",
              "      gap: 12px;\n",
              "    }\n",
              "\n",
              "    .colab-df-convert {\n",
              "      background-color: #E8F0FE;\n",
              "      border: none;\n",
              "      border-radius: 50%;\n",
              "      cursor: pointer;\n",
              "      display: none;\n",
              "      fill: #1967D2;\n",
              "      height: 32px;\n",
              "      padding: 0 0 0 0;\n",
              "      width: 32px;\n",
              "    }\n",
              "\n",
              "    .colab-df-convert:hover {\n",
              "      background-color: #E2EBFA;\n",
              "      box-shadow: 0px 1px 2px rgba(60, 64, 67, 0.3), 0px 1px 3px 1px rgba(60, 64, 67, 0.15);\n",
              "      fill: #174EA6;\n",
              "    }\n",
              "\n",
              "    .colab-df-buttons div {\n",
              "      margin-bottom: 4px;\n",
              "    }\n",
              "\n",
              "    [theme=dark] .colab-df-convert {\n",
              "      background-color: #3B4455;\n",
              "      fill: #D2E3FC;\n",
              "    }\n",
              "\n",
              "    [theme=dark] .colab-df-convert:hover {\n",
              "      background-color: #434B5C;\n",
              "      box-shadow: 0px 1px 3px 1px rgba(0, 0, 0, 0.15);\n",
              "      filter: drop-shadow(0px 1px 2px rgba(0, 0, 0, 0.3));\n",
              "      fill: #FFFFFF;\n",
              "    }\n",
              "  </style>\n",
              "\n",
              "    <script>\n",
              "      const buttonEl =\n",
              "        document.querySelector('#df-30ac99e1-9f9b-45fb-b479-ef620e3d5e9d button.colab-df-convert');\n",
              "      buttonEl.style.display =\n",
              "        google.colab.kernel.accessAllowed ? 'block' : 'none';\n",
              "\n",
              "      async function convertToInteractive(key) {\n",
              "        const element = document.querySelector('#df-30ac99e1-9f9b-45fb-b479-ef620e3d5e9d');\n",
              "        const dataTable =\n",
              "          await google.colab.kernel.invokeFunction('convertToInteractive',\n",
              "                                                    [key], {});\n",
              "        if (!dataTable) return;\n",
              "\n",
              "        const docLinkHtml = 'Like what you see? Visit the ' +\n",
              "          '<a target=\"_blank\" href=https://colab.research.google.com/notebooks/data_table.ipynb>data table notebook</a>'\n",
              "          + ' to learn more about interactive tables.';\n",
              "        element.innerHTML = '';\n",
              "        dataTable['output_type'] = 'display_data';\n",
              "        await google.colab.output.renderOutput(dataTable, element);\n",
              "        const docLink = document.createElement('div');\n",
              "        docLink.innerHTML = docLinkHtml;\n",
              "        element.appendChild(docLink);\n",
              "      }\n",
              "    </script>\n",
              "  </div>\n",
              "\n",
              "\n",
              "<div id=\"df-99e7e3a3-32fc-4a39-8ca1-a4c7515e5b60\">\n",
              "  <button class=\"colab-df-quickchart\" onclick=\"quickchart('df-99e7e3a3-32fc-4a39-8ca1-a4c7515e5b60')\"\n",
              "            title=\"Suggest charts\"\n",
              "            style=\"display:none;\">\n",
              "\n",
              "<svg xmlns=\"http://www.w3.org/2000/svg\" height=\"24px\"viewBox=\"0 0 24 24\"\n",
              "     width=\"24px\">\n",
              "    <g>\n",
              "        <path d=\"M19 3H5c-1.1 0-2 .9-2 2v14c0 1.1.9 2 2 2h14c1.1 0 2-.9 2-2V5c0-1.1-.9-2-2-2zM9 17H7v-7h2v7zm4 0h-2V7h2v10zm4 0h-2v-4h2v4z\"/>\n",
              "    </g>\n",
              "</svg>\n",
              "  </button>\n",
              "\n",
              "<style>\n",
              "  .colab-df-quickchart {\n",
              "      --bg-color: #E8F0FE;\n",
              "      --fill-color: #1967D2;\n",
              "      --hover-bg-color: #E2EBFA;\n",
              "      --hover-fill-color: #174EA6;\n",
              "      --disabled-fill-color: #AAA;\n",
              "      --disabled-bg-color: #DDD;\n",
              "  }\n",
              "\n",
              "  [theme=dark] .colab-df-quickchart {\n",
              "      --bg-color: #3B4455;\n",
              "      --fill-color: #D2E3FC;\n",
              "      --hover-bg-color: #434B5C;\n",
              "      --hover-fill-color: #FFFFFF;\n",
              "      --disabled-bg-color: #3B4455;\n",
              "      --disabled-fill-color: #666;\n",
              "  }\n",
              "\n",
              "  .colab-df-quickchart {\n",
              "    background-color: var(--bg-color);\n",
              "    border: none;\n",
              "    border-radius: 50%;\n",
              "    cursor: pointer;\n",
              "    display: none;\n",
              "    fill: var(--fill-color);\n",
              "    height: 32px;\n",
              "    padding: 0;\n",
              "    width: 32px;\n",
              "  }\n",
              "\n",
              "  .colab-df-quickchart:hover {\n",
              "    background-color: var(--hover-bg-color);\n",
              "    box-shadow: 0 1px 2px rgba(60, 64, 67, 0.3), 0 1px 3px 1px rgba(60, 64, 67, 0.15);\n",
              "    fill: var(--button-hover-fill-color);\n",
              "  }\n",
              "\n",
              "  .colab-df-quickchart-complete:disabled,\n",
              "  .colab-df-quickchart-complete:disabled:hover {\n",
              "    background-color: var(--disabled-bg-color);\n",
              "    fill: var(--disabled-fill-color);\n",
              "    box-shadow: none;\n",
              "  }\n",
              "\n",
              "  .colab-df-spinner {\n",
              "    border: 2px solid var(--fill-color);\n",
              "    border-color: transparent;\n",
              "    border-bottom-color: var(--fill-color);\n",
              "    animation:\n",
              "      spin 1s steps(1) infinite;\n",
              "  }\n",
              "\n",
              "  @keyframes spin {\n",
              "    0% {\n",
              "      border-color: transparent;\n",
              "      border-bottom-color: var(--fill-color);\n",
              "      border-left-color: var(--fill-color);\n",
              "    }\n",
              "    20% {\n",
              "      border-color: transparent;\n",
              "      border-left-color: var(--fill-color);\n",
              "      border-top-color: var(--fill-color);\n",
              "    }\n",
              "    30% {\n",
              "      border-color: transparent;\n",
              "      border-left-color: var(--fill-color);\n",
              "      border-top-color: var(--fill-color);\n",
              "      border-right-color: var(--fill-color);\n",
              "    }\n",
              "    40% {\n",
              "      border-color: transparent;\n",
              "      border-right-color: var(--fill-color);\n",
              "      border-top-color: var(--fill-color);\n",
              "    }\n",
              "    60% {\n",
              "      border-color: transparent;\n",
              "      border-right-color: var(--fill-color);\n",
              "    }\n",
              "    80% {\n",
              "      border-color: transparent;\n",
              "      border-right-color: var(--fill-color);\n",
              "      border-bottom-color: var(--fill-color);\n",
              "    }\n",
              "    90% {\n",
              "      border-color: transparent;\n",
              "      border-bottom-color: var(--fill-color);\n",
              "    }\n",
              "  }\n",
              "</style>\n",
              "\n",
              "  <script>\n",
              "    async function quickchart(key) {\n",
              "      const quickchartButtonEl =\n",
              "        document.querySelector('#' + key + ' button');\n",
              "      quickchartButtonEl.disabled = true;  // To prevent multiple clicks.\n",
              "      quickchartButtonEl.classList.add('colab-df-spinner');\n",
              "      try {\n",
              "        const charts = await google.colab.kernel.invokeFunction(\n",
              "            'suggestCharts', [key], {});\n",
              "      } catch (error) {\n",
              "        console.error('Error during call to suggestCharts:', error);\n",
              "      }\n",
              "      quickchartButtonEl.classList.remove('colab-df-spinner');\n",
              "      quickchartButtonEl.classList.add('colab-df-quickchart-complete');\n",
              "    }\n",
              "    (() => {\n",
              "      let quickchartButtonEl =\n",
              "        document.querySelector('#df-99e7e3a3-32fc-4a39-8ca1-a4c7515e5b60 button');\n",
              "      quickchartButtonEl.style.display =\n",
              "        google.colab.kernel.accessAllowed ? 'block' : 'none';\n",
              "    })();\n",
              "  </script>\n",
              "</div>\n",
              "\n",
              "  <div id=\"id_6d029170-2125-4528-a6f6-2a186d831e4d\">\n",
              "    <style>\n",
              "      .colab-df-generate {\n",
              "        background-color: #E8F0FE;\n",
              "        border: none;\n",
              "        border-radius: 50%;\n",
              "        cursor: pointer;\n",
              "        display: none;\n",
              "        fill: #1967D2;\n",
              "        height: 32px;\n",
              "        padding: 0 0 0 0;\n",
              "        width: 32px;\n",
              "      }\n",
              "\n",
              "      .colab-df-generate:hover {\n",
              "        background-color: #E2EBFA;\n",
              "        box-shadow: 0px 1px 2px rgba(60, 64, 67, 0.3), 0px 1px 3px 1px rgba(60, 64, 67, 0.15);\n",
              "        fill: #174EA6;\n",
              "      }\n",
              "\n",
              "      [theme=dark] .colab-df-generate {\n",
              "        background-color: #3B4455;\n",
              "        fill: #D2E3FC;\n",
              "      }\n",
              "\n",
              "      [theme=dark] .colab-df-generate:hover {\n",
              "        background-color: #434B5C;\n",
              "        box-shadow: 0px 1px 3px 1px rgba(0, 0, 0, 0.15);\n",
              "        filter: drop-shadow(0px 1px 2px rgba(0, 0, 0, 0.3));\n",
              "        fill: #FFFFFF;\n",
              "      }\n",
              "    </style>\n",
              "    <button class=\"colab-df-generate\" onclick=\"generateWithVariable('df')\"\n",
              "            title=\"Generate code using this dataframe.\"\n",
              "            style=\"display:none;\">\n",
              "\n",
              "  <svg xmlns=\"http://www.w3.org/2000/svg\" height=\"24px\"viewBox=\"0 0 24 24\"\n",
              "       width=\"24px\">\n",
              "    <path d=\"M7,19H8.4L18.45,9,17,7.55,7,17.6ZM5,21V16.75L18.45,3.32a2,2,0,0,1,2.83,0l1.4,1.43a1.91,1.91,0,0,1,.58,1.4,1.91,1.91,0,0,1-.58,1.4L9.25,21ZM18.45,9,17,7.55Zm-12,3A5.31,5.31,0,0,0,4.9,8.1,5.31,5.31,0,0,0,1,6.5,5.31,5.31,0,0,0,4.9,4.9,5.31,5.31,0,0,0,6.5,1,5.31,5.31,0,0,0,8.1,4.9,5.31,5.31,0,0,0,12,6.5,5.46,5.46,0,0,0,6.5,12Z\"/>\n",
              "  </svg>\n",
              "    </button>\n",
              "    <script>\n",
              "      (() => {\n",
              "      const buttonEl =\n",
              "        document.querySelector('#id_6d029170-2125-4528-a6f6-2a186d831e4d button.colab-df-generate');\n",
              "      buttonEl.style.display =\n",
              "        google.colab.kernel.accessAllowed ? 'block' : 'none';\n",
              "\n",
              "      buttonEl.onclick = () => {\n",
              "        google.colab.notebook.generateWithVariable('df');\n",
              "      }\n",
              "      })();\n",
              "    </script>\n",
              "  </div>\n",
              "\n",
              "    </div>\n",
              "  </div>\n"
            ],
            "application/vnd.google.colaboratory.intrinsic+json": {
              "type": "dataframe",
              "variable_name": "df",
              "summary": "{\n  \"name\": \"df\",\n  \"rows\": 7,\n  \"fields\": [\n    {\n      \"column\": \"sno\",\n      \"properties\": {\n        \"dtype\": \"number\",\n        \"std\": 2,\n        \"min\": 1,\n        \"max\": 7,\n        \"num_unique_values\": 7,\n        \"samples\": [\n          1,\n          2,\n          6\n        ],\n        \"semantic_type\": \"\",\n        \"description\": \"\"\n      }\n    },\n    {\n      \"column\": \"fruit\",\n      \"properties\": {\n        \"dtype\": \"string\",\n        \"num_unique_values\": 7,\n        \"samples\": [\n          \"apple\",\n          \"banana\",\n          \"pineapple\"\n        ],\n        \"semantic_type\": \"\",\n        \"description\": \"\"\n      }\n    },\n    {\n      \"column\": \"color\",\n      \"properties\": {\n        \"dtype\": \"string\",\n        \"num_unique_values\": 4,\n        \"samples\": [\n          \"yellow\",\n          \"green\",\n          \"red\"\n        ],\n        \"semantic_type\": \"\",\n        \"description\": \"\"\n      }\n    },\n    {\n      \"column\": \"price\",\n      \"properties\": {\n        \"dtype\": \"number\",\n        \"std\": 41.87423329788516,\n        \"min\": 20.0,\n        \"max\": 150.0,\n        \"num_unique_values\": 7,\n        \"samples\": [\n          110.85,\n          50.12,\n          90.0\n        ],\n        \"semantic_type\": \"\",\n        \"description\": \"\"\n      }\n    }\n  ]\n}"
            }
          },
          "metadata": {},
          "execution_count": 58
        }
      ]
    },
    {
      "cell_type": "markdown",
      "source": [
        "# 3.1.2 JSON"
      ],
      "metadata": {
        "id": "BcTG8BvOJIUC"
      }
    },
    {
      "cell_type": "markdown",
      "source": [
        "JSON (JavaScript Object Notation) adalah format pertukaran data yang ringan, mudah dibaca manusia, dan banyak digunakan secara global. Sebagai alternatif XML, JSON terdiri dari pasangan kunci-nilai dan dapat diurai dengan mudah dalam berbagai bahasa pemrograman."
      ],
      "metadata": {
        "id": "on7lfxmTJIwx"
      }
    },
    {
      "cell_type": "code",
      "source": [
        "# import required libraries\n",
        "import json\n",
        "import pandas as pd"
      ],
      "metadata": {
        "id": "kuBiSqoOJoca"
      },
      "execution_count": null,
      "outputs": []
    },
    {
      "cell_type": "code",
      "source": [
        "def print_nested_dicts(nested_dict,indent_level=0):\n",
        "    \"\"\"This function prints a nested dict object\n",
        "    Args:\n",
        "        nested_dict (dict): the dictionary to be printed\n",
        "        indent_level (int): the indentation level for nesting\n",
        "    Returns:\n",
        "        None\n",
        "\n",
        "    \"\"\"\n",
        "\n",
        "    for key, val in nested_dict.items():\n",
        "        if isinstance(val, dict):\n",
        "          print(\"{0} : \".format(key))\n",
        "          print_nested_dicts(val,indent_level=indent_level+1)\n",
        "        elif isinstance(val,list):\n",
        "            print(\"{0} : \".format(key))\n",
        "            for rec in val:\n",
        "                print_nested_dicts(rec,indent_level=indent_level+1)\n",
        "        else:\n",
        "          print(\"{0}{1} : {2}\".format(\"\\t\"*indent_level,key, val))\n",
        "\n",
        "def extract_json(file_name,do_print=True):\n",
        "    \"\"\"This function extracts and prints json content from a given file\n",
        "    Args:\n",
        "        file_name (str): file path to be read\n",
        "        do_print (bool): boolean flag to print file contents or not\n",
        "\n",
        "    Returns:\n",
        "        None\n",
        "\n",
        "    \"\"\"\n",
        "    try:\n",
        "        json_filedata = open(file_name).read()\n",
        "        json_data = json.loads(json_filedata)\n",
        "\n",
        "        if do_print:\n",
        "            print_nested_dicts(json_data)\n",
        "    except IOError:\n",
        "        raise IOError(\"File path incorrect/ File not found\")\n",
        "    except ValueError:\n",
        "        ValueError(\"JSON file has errors\")\n",
        "    except Exception:\n",
        "        raise\n",
        "\n",
        "def extract_pandas_json(file_name,orientation=\"records\",do_print=True):\n",
        "    \"\"\"This function extracts and prints json content from a file using pandas\n",
        "       This is useful when json data represents tabular, series information\n",
        "    Args:\n",
        "        file_name (str): file path to be read\n",
        "        orientation (str): orientation of json file. Defaults to records\n",
        "        do_print (bool): boolean flag to print file contents or not\n",
        "\n",
        "    Returns:\n",
        "        None\n",
        "\n",
        "    \"\"\"\n",
        "    try:\n",
        "        df = pd.read_json(file_name,orient=orientation)\n",
        "\n",
        "        if do_print:\n",
        "            print(df)\n",
        "    except IOError:\n",
        "        raise IOError(\"File path incorrect/ File not found\")\n",
        "    except ValueError:\n",
        "        ValueError(\"JSON file has errors\")\n",
        "    except Exception:\n",
        "        raise"
      ],
      "metadata": {
        "id": "5GQX4QjyJrie"
      },
      "execution_count": null,
      "outputs": []
    },
    {
      "cell_type": "markdown",
      "source": [
        "**Parse menggunakan modul json**\n",
        "\n",
        "Fungsi extract_json() mengambil nama file input sebagai parameter input."
      ],
      "metadata": {
        "id": "_CzuMX9_JbIq"
      }
    },
    {
      "cell_type": "code",
      "source": [
        "extract_json(r'/content/sample_json.json')"
      ],
      "metadata": {
        "colab": {
          "base_uri": "https://localhost:8080/"
        },
        "id": "9gO8W1oAJ4M7",
        "outputId": "79095544-39f6-4810-8b98-775174929c74"
      },
      "execution_count": null,
      "outputs": [
        {
          "output_type": "stream",
          "name": "stdout",
          "text": [
            "outer_col_1 : \n",
            "\tnested_inner_col_1 : val_1\n",
            "\tnested_inner_col_2 : 2\n",
            "\tnested_inner_col_1 : val_2\n",
            "\tnested_inner_col_2 : 2\n",
            "outer_col_2 : \n",
            "\tinner_col_1 : 3\n",
            "outer_col_3 : 4\n"
          ]
        }
      ]
    },
    {
      "cell_type": "markdown",
      "source": [
        "Fungsi ini menghasilkan output bersarang yang menyerupai struktur JSON itu sendiri di mana nilai outer_col_1 adalah objek bersarang itu sendiri"
      ],
      "metadata": {
        "id": "Drh0wAXLKbKg"
      }
    },
    {
      "cell_type": "markdown",
      "source": [
        "**Parse menggunakan pandas**\n",
        "\n",
        "Fungsi extract_pandas_json() mengambil nama file input sebagai parameter input. Fungsi ini menggunakan pandas untuk melakukan pekerjaan berat"
      ],
      "metadata": {
        "id": "s4yXgKUgKe4C"
      }
    },
    {
      "cell_type": "code",
      "source": [
        "extract_pandas_json(r'/content/pandas_json.json')"
      ],
      "metadata": {
        "colab": {
          "base_uri": "https://localhost:8080/"
        },
        "id": "tB2iNV-mKET_",
        "outputId": "3ab58a6c-e279-4ba5-dec9-854a6d0dce8c"
      },
      "execution_count": null,
      "outputs": [
        {
          "output_type": "stream",
          "name": "stdout",
          "text": [
            "  col_1 col_2\n",
            "0     a     b\n",
            "1     c     d\n",
            "2     e     f\n",
            "3     g     h\n",
            "4     i     j\n",
            "5     k     l\n"
          ]
        }
      ]
    },
    {
      "cell_type": "markdown",
      "source": [
        "# 3.1.3 XML"
      ],
      "metadata": {
        "id": "sQjg44FZLwuG"
      }
    },
    {
      "cell_type": "markdown",
      "source": [
        "XML (eXtensible Markup Language) adalah format data lama yang masih banyak digunakan untuk berbagi data melalui Internet. Seperti JSON, XML adalah format teks yang dapat dibaca manusia, mendukung Unicode, independen platform, dan sederhana. XML sering digunakan untuk merepresentasikan data dalam berbagai bentuk dan ukuran."
      ],
      "metadata": {
        "id": "rlbPY_RtL2DM"
      }
    },
    {
      "source": [
        "!pip install xmltodict\n",
        "import xmltodict"
      ],
      "cell_type": "code",
      "metadata": {
        "colab": {
          "base_uri": "https://localhost:8080/"
        },
        "id": "Y5iqZld7MHnC",
        "outputId": "d026d60b-7957-4119-887d-dcbdf349989c"
      },
      "execution_count": null,
      "outputs": [
        {
          "output_type": "stream",
          "name": "stdout",
          "text": [
            "Requirement already satisfied: xmltodict in /usr/local/lib/python3.11/dist-packages (0.14.2)\n"
          ]
        }
      ]
    },
    {
      "cell_type": "code",
      "source": [
        "# import required libraries\n",
        "import xml.etree.ElementTree as ET\n",
        "import xmltodict"
      ],
      "metadata": {
        "id": "fJPN_VnvKj7I"
      },
      "execution_count": null,
      "outputs": []
    },
    {
      "source": [
        "def print_nested_dicts(nested_dict,indent_level=0):\n",
        "    \"\"\"This function prints a nested dict object\n",
        "    Args:\n",
        "        nested_dict (dict): the dictionary to be printed\n",
        "        indent_level (int): the indentation level for nesting\n",
        "    Returns:\n",
        "        None\n",
        "\n",
        "    \"\"\"\n",
        "\n",
        "    for key, val in nested_dict.items():\n",
        "        if isinstance(val, dict):\n",
        "          print(\"{0} : \".format(key))\n",
        "          print_nested_dicts(val,indent_level=indent_level+1)\n",
        "        elif isinstance(val,list):\n",
        "            print(\"{0} : \".format(key))\n",
        "            for rec in val:\n",
        "                print_nested_dicts(rec,indent_level=indent_level+1)\n",
        "        else:\n",
        "          print(\"{0}{1} : {2}\".format(\"\\t\"*indent_level,key, val))\n",
        "\n",
        "def print_xml_tree(xml_root,indent_level=0):\n",
        "    \"\"\"This function prints a nested dict object\n",
        "    Args:\n",
        "        xml_root (dict): the xml tree to be printed\n",
        "        indent_level (int): the indentation level for nesting\n",
        "    Returns:\n",
        "        None\n",
        "\n",
        "    \"\"\"\n",
        "    for child in xml_root: #Fixed: Removed extra indent before 'for'\n",
        "            print(\"{0}tag:{1}, attribute:{2}\".format(\n",
        "                                                \"\\t\"*indent_level,\n",
        "                                                child.tag,\n",
        "                                                child.attrib))\n",
        "\n",
        "            print(\"{0}tag data:{1}\".format(\"\\t\"*indent_level,\n",
        "                                            child.text))\n",
        "\n",
        "            print_xml_tree(child,indent_level=indent_level+1)\n",
        "\n",
        "def read_xml(file_name):\n",
        "    \"\"\"This function extracts and prints XML content from a given file\n",
        "    Args:\n",
        "        file_name (str): file path to be read\n",
        "    Returns:\n",
        "        None\n",
        "\n",
        "    \"\"\"\n",
        "    try:\n",
        "        tree = ET.parse(file_name)\n",
        "        root = tree.getroot()\n",
        "\n",
        "        print(\"Root tag:{0}\".format(root.tag))\n",
        "        print(\"Attributes of Root:: {0}\".format(root.attrib))\n",
        "\n",
        "        print_xml_tree(root)\n",
        "\n",
        "    except IOError:\n",
        "        raise IOError(\"File path incorrect/ File not found\")\n",
        "    except Exception:\n",
        "        raise\n",
        "\n",
        "def read_xml2dict_xml(file_name):\n",
        "    \"\"\"This function extracts and prints xml content from a file using xml2dict\n",
        "    Args:\n",
        "        file_name (str): file path to be read\n",
        "    Returns:\n",
        "        None\n",
        "\n",
        "    \"\"\"\n",
        "    try:\n",
        "        xml_filedata = open(file_name).read()\n",
        "        ordered_dict = xmltodict.parse(xml_filedata)\n",
        "\n",
        "        print_nested_dicts(ordered_dict)\n",
        "    except IOError:\n",
        "        raise IOError(\"File path incorrect/ File not found\")\n",
        "    except ValueError:\n",
        "        ValueError(\"XML file has errors\")\n",
        "    except Exception:\n",
        "        raise"
      ],
      "cell_type": "code",
      "metadata": {
        "id": "xFOF3Zb-M_bE"
      },
      "execution_count": null,
      "outputs": []
    },
    {
      "cell_type": "markdown",
      "source": [
        "**Parsing menggunakan modul XML**\n",
        "\n",
        "Fungsi read_xml() mengambil nama file input sebagai parameter input."
      ],
      "metadata": {
        "id": "UzrFjvAeOIwN"
      }
    },
    {
      "cell_type": "code",
      "source": [
        "read_xml(r'/content/sample_xml.xml')"
      ],
      "metadata": {
        "colab": {
          "base_uri": "https://localhost:8080/"
        },
        "id": "GMYVkIUnNeHk",
        "outputId": "b66de61e-5d3d-4898-8863-0bdffd7d3abd"
      },
      "execution_count": null,
      "outputs": [
        {
          "output_type": "stream",
          "name": "stdout",
          "text": [
            "Root tag:records\n",
            "Attributes of Root:: {'attr': 'sample xml records'}\n",
            "tag:record, attribute:{'name': 'rec_1'}\n",
            "tag data:\n",
            "\t  \n",
            "\ttag:sub_element, attribute:{}\n",
            "\ttag data:\n",
            "\t    \n",
            "\t\ttag:detail1, attribute:{}\n",
            "\t\ttag data:Attribute 1\n",
            "\t\ttag:detail2, attribute:{}\n",
            "\t\ttag data:2\n",
            "\ttag:sub_element_with_attr, attribute:{'attr': 'complex'}\n",
            "\ttag data:\n",
            "\t    Sub_Element_Text\n",
            "\t  \n",
            "\ttag:sub_element_only_attr, attribute:{'attr_val': 'only_attr'}\n",
            "\ttag data:None\n",
            "tag:record, attribute:{'name': 'rec_2'}\n",
            "tag data:\n",
            "\t  \n",
            "\ttag:sub_element, attribute:{}\n",
            "\ttag data:\n",
            "\t    \n",
            "\t\ttag:detail1, attribute:{}\n",
            "\t\ttag data:Attribute 1\n",
            "\t\ttag:detail2, attribute:{}\n",
            "\t\ttag data:2\n",
            "\ttag:sub_element_with_attr, attribute:{'attr': 'complex'}\n",
            "\ttag data:\n",
            "\t    Sub_Element_Text\n",
            "\t  \n",
            "\ttag:sub_element_only_attr, attribute:{'attr_val': 'only_attr'}\n",
            "\ttag data:None\n",
            "tag:record, attribute:{'name': 'rec_3'}\n",
            "tag data:\n",
            "\t  \n",
            "\ttag:sub_element, attribute:{}\n",
            "\ttag data:\n",
            "\t    \n",
            "\t\ttag:detail1, attribute:{}\n",
            "\t\ttag data:Attribute 1\n",
            "\t\ttag:detail2, attribute:{}\n",
            "\t\ttag data:2\n",
            "\ttag:sub_element_with_attr, attribute:{'attr': 'complex'}\n",
            "\ttag data:\n",
            "\t    Sub_Element_Text\n",
            "\t  \n",
            "\ttag:sub_element_only_attr, attribute:{'attr_val': 'only_attr'}\n",
            "\ttag data:None\n"
          ]
        }
      ]
    },
    {
      "cell_type": "markdown",
      "source": [
        "Fungsi ini menghasilkan keluaran bersarang yang menyerupai struktur XML itu sendiri. Fungsi ini memberikan fleksibilitas dalam hal mengidentifikasi struktur dan mengurai simpul XML sebagaimana diperlukan."
      ],
      "metadata": {
        "id": "knlLJFvkOUG5"
      }
    },
    {
      "cell_type": "markdown",
      "source": [
        "**Mengurai menggunakan xmltodict**\n",
        "\n",
        "Fungsi read_xml2dict_xml() mengambil nama berkas masukan sebagai parameter masukan. Fungsi ini menggunakan xmltodict untuk melakukan pekerjaan berat"
      ],
      "metadata": {
        "id": "A80tw1SHOY_a"
      }
    },
    {
      "cell_type": "code",
      "source": [
        "read_xml2dict_xml(r'/content/sample_xml.xml')"
      ],
      "metadata": {
        "colab": {
          "base_uri": "https://localhost:8080/"
        },
        "id": "f_1FXdJsNgol",
        "outputId": "ebf462dd-7d8f-4929-fab9-490662333dbc"
      },
      "execution_count": null,
      "outputs": [
        {
          "output_type": "stream",
          "name": "stdout",
          "text": [
            "records : \n",
            "\t@attr : sample xml records\n",
            "record : \n",
            "\t\t@name : rec_1\n",
            "sub_element : \n",
            "\t\t\tdetail1 : Attribute 1\n",
            "\t\t\tdetail2 : 2\n",
            "sub_element_with_attr : \n",
            "\t\t\t@attr : complex\n",
            "\t\t\t#text : Sub_Element_Text\n",
            "sub_element_only_attr : \n",
            "\t\t\t@attr_val : only_attr\n",
            "\t\t@name : rec_2\n",
            "sub_element : \n",
            "\t\t\tdetail1 : Attribute 1\n",
            "\t\t\tdetail2 : 2\n",
            "sub_element_with_attr : \n",
            "\t\t\t@attr : complex\n",
            "\t\t\t#text : Sub_Element_Text\n",
            "sub_element_only_attr : \n",
            "\t\t\t@attr_val : only_attr\n",
            "\t\t@name : rec_3\n",
            "sub_element : \n",
            "\t\t\tdetail1 : Attribute 1\n",
            "\t\t\tdetail2 : 2\n",
            "sub_element_with_attr : \n",
            "\t\t\t@attr : complex\n",
            "\t\t\t#text : Sub_Element_Text\n",
            "sub_element_only_attr : \n",
            "\t\t\t@attr_val : only_attr\n"
          ]
        }
      ]
    },
    {
      "cell_type": "markdown",
      "source": [
        "Output dalam sel di atas menunjukkan bagaimana xmltodict membaca file XML. Fungsi ini menggunakan pustaka xmltodict untuk melakukan penelusuran simpul dan mengekstrak informasi yang relevan."
      ],
      "metadata": {
        "id": "oQV3q73YOfau"
      }
    },
    {
      "cell_type": "markdown",
      "source": [
        "# 3.1.4 HTML and Scraping"
      ],
      "metadata": {
        "id": "NIxh1nAROhDG"
      }
    },
    {
      "cell_type": "markdown",
      "source": [
        "Hyper Text Markup Language (HTML) adalah bahasa markup yang mirip dengan XML. HTML terutama digunakan oleh browser web dan aplikasi serupa untuk merender halaman web untuk konsumsi."
      ],
      "metadata": {
        "id": "TPloLVc3OvY5"
      }
    },
    {
      "cell_type": "code",
      "source": [
        "from IPython.core.display import display, HTML\n",
        "display(HTML(\"\"\"\n",
        "<!DOCTYPE html>\n",
        "<html>\n",
        "<head>\n",
        "<title>Page Title</title>\n",
        "</head>\n",
        "<body>\n",
        "\n",
        "<h1>My First Heading</h1>\n",
        "<p>My first paragraph.</p>\n",
        "\n",
        "</body>\n",
        "</html>\n",
        "\"\"\"))"
      ],
      "metadata": {
        "colab": {
          "base_uri": "https://localhost:8080/",
          "height": 100
        },
        "id": "EBpY_bCePdsY",
        "outputId": "60756085-bada-4fe0-dbdb-92196cc23188"
      },
      "execution_count": null,
      "outputs": [
        {
          "output_type": "display_data",
          "data": {
            "text/plain": [
              "<IPython.core.display.HTML object>"
            ],
            "text/html": [
              "\n",
              "<!DOCTYPE html>\n",
              "<html>\n",
              "<head>\n",
              "<title>Page Title</title>\n",
              "</head>\n",
              "<body>\n",
              "\n",
              "<h1>My First Heading</h1>\n",
              "<p>My first paragraph.</p>\n",
              "\n",
              "</body>\n",
              "</html>\n"
            ]
          },
          "metadata": {}
        }
      ]
    },
    {
      "cell_type": "markdown",
      "source": [
        "Peramban menggunakan tag markup untuk memahami instruksi khusus seperti pemformatan teks, penempatan, hyperlink, dan sebagainya, tetapi hanya menyajikan konten untuk dilihat pengguna akhir. Untuk kasus penggunaan di mana data/informasi berada di halaman HTML, kita memerlukan teknik khusus untuk mengekstrak konten ini."
      ],
      "metadata": {
        "id": "JUw930sDSAtS"
      }
    },
    {
      "cell_type": "markdown",
      "source": [
        "# 3.1.5 Web Scraping"
      ],
      "metadata": {
        "id": "GZHjk2WESHt_"
      }
    },
    {
      "cell_type": "markdown",
      "source": [
        "Pengikisan web adalah teknik untuk mengikis atau mengekstrak data dari web, khususnya dari halaman web. Pengikisan web dapat melibatkan penyalinan data secara manual atau penggunaan otomatisasi untuk merayapi, mengurai, dan mengekstrak informasi dari halaman web. Dalam sebagian besar konteks, pengikisan web mengacu pada perayapan otomatis situs web tertentu atau bagian dari web untuk mengekstrak dan mengurai informasi yang nantinya dapat digunakan untuk analisis atau kasus penggunaan lainnya."
      ],
      "metadata": {
        "id": "OSFdGNqeSPBT"
      }
    },
    {
      "cell_type": "code",
      "source": [
        "!pip install requests beautifulsoup4"
      ],
      "metadata": {
        "id": "gaSmTBHgZH6D",
        "outputId": "4841867a-93a6-4c32-c58f-6f224299b8c5",
        "colab": {
          "base_uri": "https://localhost:8080/"
        }
      },
      "execution_count": null,
      "outputs": [
        {
          "output_type": "stream",
          "name": "stdout",
          "text": [
            "Requirement already satisfied: requests in /usr/local/lib/python3.11/dist-packages (2.32.3)\n",
            "Requirement already satisfied: beautifulsoup4 in /usr/local/lib/python3.11/dist-packages (4.13.3)\n",
            "Requirement already satisfied: charset-normalizer<4,>=2 in /usr/local/lib/python3.11/dist-packages (from requests) (3.4.1)\n",
            "Requirement already satisfied: idna<4,>=2.5 in /usr/local/lib/python3.11/dist-packages (from requests) (3.10)\n",
            "Requirement already satisfied: urllib3<3,>=1.21.1 in /usr/local/lib/python3.11/dist-packages (from requests) (2.3.0)\n",
            "Requirement already satisfied: certifi>=2017.4.17 in /usr/local/lib/python3.11/dist-packages (from requests) (2025.1.31)\n",
            "Requirement already satisfied: soupsieve>1.2 in /usr/local/lib/python3.11/dist-packages (from beautifulsoup4) (2.6)\n",
            "Requirement already satisfied: typing-extensions>=4.0.0 in /usr/local/lib/python3.11/dist-packages (from beautifulsoup4) (4.12.2)\n"
          ]
        }
      ]
    },
    {
      "cell_type": "code",
      "source": [
        "import requests\n",
        "from bs4 import BeautifulSoup\n",
        "\n",
        "# URL situs yang akan di-scrape (ganti dengan situs yang diizinkan)\n",
        "url = \"https://example.com\"\n",
        "\n",
        "# Mengirim permintaan HTTP ke situs\n",
        "response = requests.get(url)\n",
        "\n",
        "# Periksa apakah request berhasil (status code 200)\n",
        "if response.status_code == 200:\n",
        "    # Parsing HTML dengan BeautifulSoup\n",
        "    soup = BeautifulSoup(response.text, \"html.parser\")\n",
        "\n",
        "    # Contoh: Mengambil semua judul artikel dalam tag <h2>\n",
        "    titles = soup.find_all(\"h2\")\n",
        "\n",
        "    # Menampilkan hasil\n",
        "    for idx, title in enumerate(titles, 1):\n",
        "        print(f\"{idx}. {title.text.strip()}\")\n",
        "else:\n",
        "    print(\"Gagal mengambil halaman, status code:\", response.status_code)\n"
      ],
      "metadata": {
        "id": "Eqlq2H7WZNVb"
      },
      "execution_count": null,
      "outputs": []
    },
    {
      "cell_type": "markdown",
      "source": [
        "# 3.1.6 SQL"
      ],
      "metadata": {
        "id": "kJipq8HYSfjq"
      }
    },
    {
      "cell_type": "markdown",
      "source": [
        "Basis data muncul sejak tahun 1970-an dan mewakili sejumlah besar data yang disimpan dalam bentuk relasional. Data yang tersedia dalam bentuk tabel dalam basis data, atau lebih spesifiknya, basis data relasional, terdiri dari format data terstruktur lain yang kita temukan saat mengerjakan berbagai kasus penggunaan. Selama bertahun-tahun, telah tersedia berbagai jenis basis data, sebagian besar sesuai dengan standar SQL."
      ],
      "metadata": {
        "id": "sGUyCwqASiVr"
      }
    }
  ]
}